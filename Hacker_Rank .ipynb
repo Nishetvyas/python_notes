{
 "cells": [
  {
   "cell_type": "code",
   "execution_count": 3,
   "metadata": {},
   "outputs": [
    {
     "name": "stdout",
     "output_type": "stream",
     "text": [
      "Enter any string:casnda\n",
      "CASNDA\n"
     ]
    }
   ],
   "source": [
    "string = input(\"Enter any string:\")\n",
    "newstring ='' \n",
    "count1 = 0\n",
    "count2 = 0\n",
    "count3 = 0\n",
    "for a in string: \n",
    "# Checking for lowercase letter and converting to uppercase. \n",
    "    if (a.isupper()) == True: \n",
    "        count1+= 1\n",
    "        newstring+=(a.lower()) \n",
    "# Checking for uppercase letter and converting to lowercase. \n",
    "    elif (a.islower()) == True: \n",
    "        count2+= 1\n",
    "        newstring+=(a.upper()) \n",
    "# Checking for whitespace letter and adding it to the new string as it is. \n",
    "    elif (a.isspace()) == True: \n",
    "        count3+= 1\n",
    "        newstring+= a \n",
    "        \n",
    "print(newstring) "
   ]
  },
  {
   "cell_type": "code",
   "execution_count": null,
   "metadata": {},
   "outputs": [],
   "source": [
    "# You are given a string and your task is to swap cases. In other words, convert all lowercase letters to uppercase letters and vice versa.\n",
    "\n",
    "# For Example:\n",
    "\n",
    "# Www.HackerRank.com → wWW.hACKERrANK.COM\n",
    "#Pythonist 2 → pYTHONIST 2\n",
    "st = input(\"\")\n",
    "print (''.join([i.lower() if i.isupper() else i.upper() for i in st]))\n"
   ]
  },
  {
   "cell_type": "code",
   "execution_count": null,
   "metadata": {},
   "outputs": [],
   "source": [
    "#tuple\n",
    "n = input(\"Enter Lenghth of no you want to add.\")\n",
    "t =tuple(map(int,input().split()))\n",
    "print(hash(t))"
   ]
  },
  {
   "cell_type": "code",
   "execution_count": null,
   "metadata": {},
   "outputs": [],
   "source": [
    "# You are given a string. Split the string on a \" \" (space) delimiter and join using a - hyphen.\n",
    "a = \"this is a string\"\n",
    "a=a.split()\n",
    "a = \"-\".join(a)\n",
    "print(a)"
   ]
  },
  {
   "cell_type": "code",
   "execution_count": null,
   "metadata": {},
   "outputs": [],
   "source": [
    "# You are given the firstname and lastname of a person on two different lines. Your task is to read them and print the following:\n",
    "# Hello firstname lastname! You just delved into python.\n",
    "fn=input()\n",
    "ln=input()\n",
    "print(\"Hello!!{} {}\".format(fn, ln))"
   ]
  },
  {
   "cell_type": "code",
   "execution_count": null,
   "metadata": {},
   "outputs": [],
   "source": [
    "# Read a given string, change the character at a given index and then print the modified string.\n",
    "\n",
    "# Input Format\n",
    "# The first line contains a string, .\n",
    "# The next line contains an integer , denoting the index location and a character  separated by a space.\n",
    "\n",
    "# Output Format\n",
    "# Using any of the methods explained above, replace the character at index  with character .\n",
    "def mutate_string(string, position, character):\n",
    "    list2=list(string)\n",
    "    list2[position]=character      \n",
    "    return ''.join(list2)\n",
    "\n",
    "s = input()\n",
    "i, c = input().split()\n",
    "s_new = mutate_string(s, int(i), c)\n",
    "print(s_new)"
   ]
  },
  {
   "cell_type": "code",
   "execution_count": null,
   "metadata": {},
   "outputs": [],
   "source": [
    "# m_str = input()\n",
    "# s_str = input()\n",
    "# f = m_str.find(s_str)\n",
    "# print(f)\n",
    "# for i in range(0, len(m_str)):\n",
    "#     print (m_str[i])\n",
    "def count_substring(string, sub_string):\n",
    "    a = string.find(sub_string)\n",
    "    a = string.rfind(sub_string)\n",
    "    return a\n",
    "\n",
    "\n",
    "string = input().strip()\n",
    "sub_string = input().strip()\n",
    "count = count_substring(string, sub_string)\n",
    "print(count)"
   ]
  },
  {
   "cell_type": "code",
   "execution_count": null,
   "metadata": {},
   "outputs": [],
   "source": [
    "# You are given a string .\n",
    "# Your task is to find out if the string  contains: alphanumeric characters, alphabetical characters, digits, lowercase and uppercase characters.\n",
    "str = input()\n",
    "print(any(c.isalnum() for c in str))\n",
    "print(any(c.isalpha() for c in str))\n",
    "print(any(c.isdigit() for c in str))\n",
    "print(any(c.islower() for c in str))\n",
    "print(any(c.isupper() for c in str))"
   ]
  },
  {
   "cell_type": "code",
   "execution_count": null,
   "metadata": {},
   "outputs": [],
   "source": [
    "#Replace all ______ with rjust, ljust or center. \n",
    "\n",
    "thickness = int(input()) #This must be an odd number\n",
    "c = 'H'\n",
    "\n",
    "#Top Cone\n",
    "for i in range(thickness):\n",
    "    print((c*i).rjust(thickness-1)+c+(c*i).ljust(thickness-1))\n",
    "\n",
    "#Top Pillars\n",
    "for i in range(thickness+1):\n",
    "    print((c*thickness).center(thickness*2)+(c*thickness).ljust(thickness*6))\n",
    "\n",
    "#Middle Belt\n",
    "for i in range((thickness+1)//2):\n",
    "    print((c*thickness*5).center(thickness*6))    \n",
    "\n",
    "#Bottom Pillars\n",
    "for i in range(thickness+1):\n",
    "    print((c*thickness).center(thickness*2)+(c*thickness).ljust(thickness*6))    \n",
    "\n",
    "#Bottom Cone\n",
    "for i in range(thickness):\n",
    "    print(((c*(thickness-i-1)).rjust(thickness)+c+(c*(thickness-i-1)).ljust(thickness)).center(thickness*6))\n",
    "\n"
   ]
  },
  {
   "cell_type": "code",
   "execution_count": 9,
   "metadata": {},
   "outputs": [
    {
     "name": "stdout",
     "output_type": "stream",
     "text": [
      "<class 'set'>\n",
      "<class 'set'>\n",
      "{0, 1, 2, 3, 4, 5, 6, 9, 12, 22}\n",
      "{1, 2, 3, 4, 5}\n",
      "{'k', 'r', 'e', 'c', 'a', 'n', 'H'}\n",
      "{'Hacker', 'Rank'}\n",
      "{(9, 'k'), (0, 'H'), (1, 'a'), (8, 'n'), (6, 'r'), (3, 'k'), (5, 'r'), (4, 'e'), (2, 'c'), (7, 'a')}\n"
     ]
    }
   ],
   "source": [
    "#9-9-2019 Set\n",
    "\n",
    "print(type(set()))\n",
    "print(type(set('HackerRank')))\n",
    "print(set([1,2,1,2,3,4,5,6,0,9,12,22,3]))\n",
    "print(set((1,2,3,4,5,5)))\n",
    "print(set(['H','a','c','k','e','r','r','a','n','k']))\n",
    "print(set({'Hacker' : 'DOSHI', 'Rank' : 616 }))\n",
    "#return output with index number\n",
    "print(set(enumerate(['H','a','c','k','e','r','r','a','n','k'])))\n",
    "\n"
   ]
  },
  {
   "cell_type": "code",
   "execution_count": 11,
   "metadata": {},
   "outputs": [
    {
     "data": {
      "text/plain": [
       "set"
      ]
     },
     "execution_count": 11,
     "metadata": {},
     "output_type": "execute_result"
    }
   ],
   "source": [
    "a = set(a)\n",
    "type(a)"
   ]
  },
  {
   "cell_type": "code",
   "execution_count": 12,
   "metadata": {},
   "outputs": [
    {
     "name": "stdout",
     "output_type": "stream",
     "text": [
      "tcfvy\n"
     ]
    },
    {
     "ename": "ValueError",
     "evalue": "invalid literal for int() with base 10: 'tcfvy'",
     "output_type": "error",
     "traceback": [
      "\u001b[1;31m---------------------------------------------------------------------------\u001b[0m",
      "\u001b[1;31mValueError\u001b[0m                                Traceback (most recent call last)",
      "\u001b[1;32m<ipython-input-12-f066b720cfe3>\u001b[0m in \u001b[0;36m<module>\u001b[1;34m\u001b[0m\n\u001b[0;32m     13\u001b[0m     \u001b[1;32mreturn\u001b[0m \u001b[0mresult\u001b[0m\u001b[1;33m\u001b[0m\u001b[1;33m\u001b[0m\u001b[0m\n\u001b[0;32m     14\u001b[0m \u001b[1;33m\u001b[0m\u001b[0m\n\u001b[1;32m---> 15\u001b[1;33m \u001b[0mn\u001b[0m \u001b[1;33m=\u001b[0m \u001b[0mint\u001b[0m\u001b[1;33m(\u001b[0m\u001b[0minput\u001b[0m\u001b[1;33m(\u001b[0m\u001b[1;33m)\u001b[0m\u001b[1;33m)\u001b[0m\u001b[1;33m\u001b[0m\u001b[1;33m\u001b[0m\u001b[0m\n\u001b[0m\u001b[0;32m     16\u001b[0m \u001b[0marr\u001b[0m \u001b[1;33m=\u001b[0m \u001b[0mlist\u001b[0m\u001b[1;33m(\u001b[0m\u001b[0mmap\u001b[0m\u001b[1;33m(\u001b[0m\u001b[0mint\u001b[0m\u001b[1;33m,\u001b[0m \u001b[0minput\u001b[0m\u001b[1;33m(\u001b[0m\u001b[1;33m)\u001b[0m\u001b[1;33m.\u001b[0m\u001b[0msplit\u001b[0m\u001b[1;33m(\u001b[0m\u001b[1;33m)\u001b[0m\u001b[1;33m)\u001b[0m\u001b[1;33m)\u001b[0m\u001b[1;33m\u001b[0m\u001b[1;33m\u001b[0m\u001b[0m\n\u001b[0;32m     17\u001b[0m \u001b[0mresult\u001b[0m \u001b[1;33m=\u001b[0m \u001b[0maverage\u001b[0m\u001b[1;33m(\u001b[0m\u001b[0marr\u001b[0m\u001b[1;33m)\u001b[0m\u001b[1;33m\u001b[0m\u001b[1;33m\u001b[0m\u001b[0m\n",
      "\u001b[1;31mValueError\u001b[0m: invalid literal for int() with base 10: 'tcfvy'"
     ]
    }
   ],
   "source": [
    "# input\n",
    "# 10\n",
    "# 161 182 161 154 176 170 167 171 170 174\n",
    "\n",
    "# output \n",
    "# 169.375\n",
    "\n",
    "def average(arr):\n",
    "    array= list(set(arr))\n",
    "    s = sum(array)\n",
    "    l = len(array)\n",
    "    result = s/l\n",
    "    return result\n",
    "\n",
    "n = int(input())\n",
    "arr = list(map(int, input().split()))\n",
    "result = average(arr)\n",
    "print(result)"
   ]
  },
  {
   "cell_type": "code",
   "execution_count": 2,
   "metadata": {},
   "outputs": [
    {
     "name": "stdout",
     "output_type": "stream",
     "text": [
      "2\n",
      "rf\n",
      "lk\n",
      "{'lk'}\n"
     ]
    }
   ],
   "source": [
    "n = int(input())\n",
    "for i in range(n):\n",
    "    a =set()\n",
    "    x = set(map(str, input().split()))\n",
    "print(x)"
   ]
  },
  {
   "cell_type": "code",
   "execution_count": 13,
   "metadata": {},
   "outputs": [
    {
     "name": "stdout",
     "output_type": "stream",
     "text": [
      "Nik Vyas\n",
      "Nik.Vyas@abc.com\n",
      "Jayesh.shah@abc.com\n"
     ]
    }
   ],
   "source": [
    "#simple class\n",
    "class Employee:\n",
    "    def __init__(self,first,last,pay):\n",
    "        self.first = first\n",
    "        self.last = last\n",
    "        self.pay = pay\n",
    "        self.email = first +'.'+last+'@abc.com'\n",
    "    \n",
    "    def fullname(self):\n",
    "        return '{} {}'.format(self.first, self.last)\n",
    "        \n",
    "    \n",
    "emp1 = Employee('Nik','Vyas',50000)\n",
    "emp2 = Employee('Jayesh','shah',70000)\n",
    "    \n",
    "print(emp1.fullname())\n",
    "print(emp1.email)\n",
    "print(emp2.email)\n",
    "    \n"
   ]
  },
  {
   "cell_type": "code",
   "execution_count": 15,
   "metadata": {},
   "outputs": [
    {
     "name": "stdout",
     "output_type": "stream",
     "text": [
      "[(1, 1), (1, 2), (1, 3), (2, 1), (2, 2), (2, 3), (3, 1), (3, 2), (3, 3)]\n"
     ]
    }
   ],
   "source": [
    "# itertools.product()\n",
    "# This tool computes the cartesian product of input iterables.\n",
    "# It is equivalent to nested for-loops.\n",
    "# For example, product(A, B) returns the same as ((x,y) for x in A for y in B).\n",
    "from itertools import product\n",
    "print(list(product([1,2,3],repeat = 2)))"
   ]
  },
  {
   "cell_type": "code",
   "execution_count": 16,
   "metadata": {},
   "outputs": [
    {
     "name": "stdout",
     "output_type": "stream",
     "text": [
      "[(1, 3), (1, 4), (2, 3), (2, 4), (3, 3), (3, 4)]\n"
     ]
    }
   ],
   "source": [
    "print (list(product([1,2,3],[3,4])))"
   ]
  },
  {
   "cell_type": "code",
   "execution_count": 17,
   "metadata": {},
   "outputs": [
    {
     "name": "stdout",
     "output_type": "stream",
     "text": [
      "dict_items([('a', 1), ('b', 2), ('c', 3)])\n",
      "a 1\n",
      "b 2\n",
      "c 3\n"
     ]
    }
   ],
   "source": [
    "d = {'a': 1, 'b': 2, 'c':3}\n",
    "# for key in d:\n",
    "#     print(key, d[key])\n",
    "print(d.items())\n",
    "for key, value in d.items():\n",
    "    print(key, value)\n",
    " "
   ]
  },
  {
   "cell_type": "code",
   "execution_count": 5,
   "metadata": {},
   "outputs": [
    {
     "name": "stdout",
     "output_type": "stream",
     "text": [
      "Keys dict_keys(['a', 'b'])\n",
      "Values dict_values(['1', '2'])\n",
      "Both Key and item dict_items([('a', '1'), ('b', '2')])\n"
     ]
    }
   ],
   "source": [
    "mydict = {'a':'1' ,'b':'2'}\n",
    "print(\"Keys\", mydict.keys())\n",
    "print(\"Values\", mydict.values())\n",
    "print(\"Both Key and item\",mydict.items())"
   ]
  },
  {
   "cell_type": "code",
   "execution_count": 7,
   "metadata": {},
   "outputs": [
    {
     "ename": "ModuleNotFoundError",
     "evalue": "No module named 'nltk'",
     "output_type": "error",
     "traceback": [
      "\u001b[1;31m---------------------------------------------------------------------------\u001b[0m",
      "\u001b[1;31mModuleNotFoundError\u001b[0m                       Traceback (most recent call last)",
      "\u001b[1;32m<ipython-input-7-46f94906d2f1>\u001b[0m in \u001b[0;36m<module>\u001b[1;34m\u001b[0m\n\u001b[1;32m----> 1\u001b[1;33m \u001b[1;32mfrom\u001b[0m \u001b[0mnltk\u001b[0m\u001b[1;33m.\u001b[0m\u001b[0mbook\u001b[0m \u001b[1;32mimport\u001b[0m \u001b[1;33m*\u001b[0m\u001b[1;33m\u001b[0m\u001b[1;33m\u001b[0m\u001b[0m\n\u001b[0m\u001b[0;32m      2\u001b[0m \u001b[1;32mimport\u001b[0m \u001b[0mnltk\u001b[0m\u001b[1;33m\u001b[0m\u001b[1;33m\u001b[0m\u001b[0m\n\u001b[0;32m      3\u001b[0m \u001b[0mnltk\u001b[0m\u001b[1;33m.\u001b[0m\u001b[0mdownload\u001b[0m\u001b[1;33m(\u001b[0m\u001b[1;33m)\u001b[0m\u001b[1;33m\u001b[0m\u001b[1;33m\u001b[0m\u001b[0m\n",
      "\u001b[1;31mModuleNotFoundError\u001b[0m: No module named 'nltk'"
     ]
    }
   ],
   "source": []
  },
  {
   "cell_type": "code",
   "execution_count": 24,
   "metadata": {},
   "outputs": [],
   "source": [
    "lis4 = [1,2,3,4]\n",
    "lis3 = [1,2,3]\n",
    "dicti = {'a':lis4,'b':lis3}"
   ]
  },
  {
   "cell_type": "code",
   "execution_count": 54,
   "metadata": {},
   "outputs": [
    {
     "name": "stdout",
     "output_type": "stream",
     "text": [
      "[1, 2, 3, 4]\n"
     ]
    }
   ],
   "source": [
    "dicti\n",
    "b = dicti['a']\n",
    "print(b)"
   ]
  },
  {
   "cell_type": "code",
   "execution_count": null,
   "metadata": {},
   "outputs": [],
   "source": []
  },
  {
   "cell_type": "code",
   "execution_count": null,
   "metadata": {},
   "outputs": [],
   "source": []
  }
 ],
 "metadata": {
  "kernelspec": {
   "display_name": "Python 3",
   "language": "python",
   "name": "python3"
  },
  "language_info": {
   "codemirror_mode": {
    "name": "ipython",
    "version": 3
   },
   "file_extension": ".py",
   "mimetype": "text/x-python",
   "name": "python",
   "nbconvert_exporter": "python",
   "pygments_lexer": "ipython3",
   "version": "3.7.3"
  }
 },
 "nbformat": 4,
 "nbformat_minor": 2
}
