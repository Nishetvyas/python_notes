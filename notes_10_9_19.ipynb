{
 "cells": [
  {
   "cell_type": "code",
   "execution_count": null,
   "metadata": {},
   "outputs": [],
   "source": [
    "# python map() function is used to apply a function on all the elements of specified iterable and return map object.\n",
    "# Python map object is an iterator, so we can iterate over its elements.\n",
    "# We can also convert map object to sequence objects such as list, tuple etc\n"
   ]
  },
  {
   "cell_type": "code",
   "execution_count": null,
   "metadata": {},
   "outputs": [],
   "source": [
    "#if else statement\n",
    "\n",
    "n = int(input(\"Enter Any No: \"))\n",
    "if n>0:\n",
    "    print(\"yup you enter positive number.\")  \n",
    "elif n<0:\n",
    "     print(\"you enter nagetive number.\")     \n",
    "else:\n",
    "    print(\"why you enter 0\")\n",
    "    "
   ]
  },
  {
   "cell_type": "code",
   "execution_count": 10,
   "metadata": {},
   "outputs": [
    {
     "name": "stdout",
     "output_type": "stream",
     "text": [
      "20\n",
      "20\n",
      "20 is grater then 20\n"
     ]
    }
   ],
   "source": [
    "# Take two int values from user and print greatest among them.\n",
    "a=input()\n",
    "b=input()\n",
    "if a>b:\n",
    "    print(\"{} is grater then {}\".format(a,b))\n",
    "else:\n",
    "    print(\"{} is grater then {}\".format(b,a))"
   ]
  },
  {
   "cell_type": "code",
   "execution_count": 2,
   "metadata": {},
   "outputs": [
    {
     "name": "stdout",
     "output_type": "stream",
     "text": [
      "Enter quantity:2000\n",
      "Cost is 180000.0\n"
     ]
    }
   ],
   "source": [
    "# A shop will give discount of 10% if the cost of purchased quantity is more than 1000.\n",
    "# Ask user for quantity\n",
    "# Suppose, one unit will cost 100.\n",
    "# Judge and print total cost for user.\n",
    "\n",
    "q = int(input(\"Enter quantity:\" ))\n",
    "if (q*100 > 1000):\n",
    "  print (\"Cost is\",((q*100)-(.1*q*100)))\n",
    "else:\n",
    "  print (\"Cost is\",q*100)"
   ]
  },
  {
   "cell_type": "code",
   "execution_count": 9,
   "metadata": {},
   "outputs": [
    {
     "name": "stdout",
     "output_type": "stream",
     "text": [
      "Enter Salary:60000\n",
      "Enter Year:3\n",
      "Salary is 60000\n"
     ]
    }
   ],
   "source": [
    "# A company decided to give bonus of 5% to employee if his/her year of service is more than 5 years.\n",
    "# Ask user for their salary and year of service and print the net bonus amount.\n",
    "salary =int(input(\"Enter Salary:\" ))\n",
    "year = int(input(\"Enter Year:\" ))\n",
    "if year>5:\n",
    "    print(\"your salary is\",(((salary *5)/100)+salary))\n",
    "else:\n",
    "    print(\"your salary is\",salary)"
   ]
  },
  {
   "cell_type": "code",
   "execution_count": 17,
   "metadata": {},
   "outputs": [
    {
     "name": "stdout",
     "output_type": "stream",
     "text": [
      "68\n",
      "B\n"
     ]
    }
   ],
   "source": [
    "# A school has following rules for grading system:\n",
    "# a. Below 25 - F\n",
    "# b. 25 to 45 - E\n",
    "# c. 45 to 50 - D\n",
    "# d. 50 to 60 - C\n",
    "# e. 60 to 80 - B\n",
    "# f. Above 80 - A\n",
    "# Ask user to enter marks and print the corresponding grade.\n",
    "mark = int(input())\n",
    "if mark <25:\n",
    "    print(\"f\")\n",
    "elif mark>25 and mark<45:\n",
    "    print(\"E\")\n",
    "elif mark>45 and mark<50:\n",
    "    print(\"D\")\n",
    "elif mark>50 and mark<60:\n",
    "    print(\"C\")\n",
    "elif mark>60 and mark<80:\n",
    "    print(\"B\");\n",
    "else:\n",
    "    print(\"A\")\n",
    "    \n",
    "    \n",
    "    \n",
    "\n"
   ]
  },
  {
   "cell_type": "code",
   "execution_count": 10,
   "metadata": {},
   "outputs": [
    {
     "name": "stdout",
     "output_type": "stream",
     "text": [
      "20\n",
      "30\n",
      "50\n",
      "[20, 30, 50]\n",
      "oldest 50 youngest 20\n"
     ]
    }
   ],
   "source": [
    "# Take input of age of 3 people by user and determine oldest and youngest among them.\n",
    "\n",
    "user1 = int(input())\n",
    "user2 = int(input())\n",
    "user3 = int(input())\n",
    "\n",
    "lis = [user1] + [user2] +[user3]\n",
    "print(lis)\n",
    "print(\"oldest\",max(lis),\"youngest\",min(lis))\n",
    "# if user1>=user2 and user1>=user3:\n",
    "#     print(\"user1 is oldest\")\n",
    "# elif user2>=user3 and user2>=user1:\n",
    "#     print(\"user2 is oldest.\")\n",
    "# elif user3>=user2 and user3>=user1:\n",
    "#     print(\"user3 is oldest.\")\n",
    "# else:\n",
    "#     print(\"ALl are Equal.\")\n",
    "    \n"
   ]
  },
  {
   "cell_type": "code",
   "execution_count": 13,
   "metadata": {},
   "outputs": [
    {
     "name": "stdout",
     "output_type": "stream",
     "text": [
      "20\n",
      "30\n",
      "20\n",
      "user1 is yougest\n"
     ]
    }
   ],
   "source": [
    "user1 = int(input())\n",
    "user2 = int(input())\n",
    "user3 = int(input())\n",
    "\n",
    "if user1<=user2 and user1<=user3:\n",
    "    print(\"user1 is yougest\")\n",
    "elif user2<=user1 and user2<=user3:\n",
    "    print(\"user2 is yougest.\")\n",
    "elif user3<=user2 and user2<=user1:\n",
    "    print(\"user3 is oldest.\")\n",
    "else:\n",
    "    print(\"All are Equal.\")\n",
    "    "
   ]
  },
  {
   "cell_type": "code",
   "execution_count": 1,
   "metadata": {},
   "outputs": [
    {
     "name": "stdout",
     "output_type": "stream",
     "text": [
      "Total no of class: 100\n",
      "No of class attend: 60\n",
      "Student percentage 60.0\n",
      "you have any medical cause? Enter Y or N.n\n",
      "you are not allowed to sit in exam cause \n"
     ]
    }
   ],
   "source": [
    "# A student will not be allowed to sit in exam if his/her attendence is less than 75%.\n",
    "# Take following input from user\n",
    "# Number of classes held\n",
    "# Number of classes attended.\n",
    "# And print\n",
    "# percentage of class attended;\n",
    "# Is student is allowed to sit in exam or not.\n",
    "no_of_class = int(input(\"Total no of class: \"))\n",
    "no_of_attend = int(input(\"No of class attend: \"))\n",
    "per = (no_of_attend/no_of_class)*100\n",
    "print(\"Student percentage\",per)\n",
    "if per<75:\n",
    "    a  = input(\"you have any medical cause? Enter Y or N.\")\n",
    "    if a == \"y\"and \"Y\" and \"yes\":\n",
    "        print(\"Best of luck for your exam.\")\n",
    "    else:    \n",
    "        print(\"you are not allowed to sit in exam cause of attandance.\")\n",
    "else:\n",
    "    print(\"Best of luck for your exam.\")"
   ]
  },
  {
   "cell_type": "code",
   "execution_count": 5,
   "metadata": {},
   "outputs": [
    {
     "name": "stdout",
     "output_type": "stream",
     "text": [
      "20\n",
      "20\n"
     ]
    }
   ],
   "source": [
    "# Write a program to print absolute vlaue of a number entered by user. E.g.-\n",
    "# INPUT: 1        OUTPUT: 1\n",
    "# INPUT: -1        OUTPUT: 1\n",
    "        \n",
    "no = int(input())\n",
    "if no<0:\n",
    "    no = -+no\n",
    "    print(no)\n",
    "else:\n",
    "    print(no)"
   ]
  },
  {
   "cell_type": "code",
   "execution_count": 8,
   "metadata": {},
   "outputs": [
    {
     "name": "stdout",
     "output_type": "stream",
     "text": [
      "1\n",
      "2\n",
      "3\n",
      "1\n"
     ]
    }
   ],
   "source": [
    "from array import *\n",
    "my_array = array('i', [1,2,3,4,5])\n",
    "print(my_array[0])\n",
    "print(my_array[1])\n",
    "# 2\n",
    "print(my_array[2])\n",
    "# 3\n",
    "print(my_array[0])"
   ]
  },
  {
   "cell_type": "code",
   "execution_count": 16,
   "metadata": {},
   "outputs": [
    {
     "name": "stdout",
     "output_type": "stream",
     "text": [
      "['a', 'b']\n",
      "[2000, 3000]\n",
      "['a', 'b']\n",
      "[('a', 2000), ('b', 3000)]\n"
     ]
    }
   ],
   "source": [
    "dict = {'a':2000,'b':3000}\n",
    "l_dict = list(dict)\n",
    "l_dict_v = list(dict.values())\n",
    "l_dict_k = list(dict.keys())\n",
    "l_dict_i = list(dict.items())\n",
    "print(l_dict)\n",
    "print(l_dict_v)\n",
    "print(l_dict_k)\n",
    "print(l_dict_i)"
   ]
  },
  {
   "cell_type": "code",
   "execution_count": null,
   "metadata": {},
   "outputs": [],
   "source": []
  }
 ],
 "metadata": {
  "kernelspec": {
   "display_name": "Python 3",
   "language": "python",
   "name": "python3"
  },
  "language_info": {
   "codemirror_mode": {
    "name": "ipython",
    "version": 3
   },
   "file_extension": ".py",
   "mimetype": "text/x-python",
   "name": "python",
   "nbconvert_exporter": "python",
   "pygments_lexer": "ipython3",
   "version": "3.7.3"
  }
 },
 "nbformat": 4,
 "nbformat_minor": 2
}
