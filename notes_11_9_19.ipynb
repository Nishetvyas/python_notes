{
 "cells": [
  {
   "cell_type": "code",
   "execution_count": 3,
   "metadata": {},
   "outputs": [
    {
     "name": "stdout",
     "output_type": "stream",
     "text": [
      "0\n",
      "1\n",
      "2\n",
      "3\n",
      "4\n",
      "Breaking from Loop.\n"
     ]
    }
   ],
   "source": [
    "i = 0\n",
    "while i<7:\n",
    "    print(i)\n",
    "    if i==4:\n",
    "        print(\"Breaking from Loop.\")\n",
    "        break\n",
    "    i +=1"
   ]
  },
  {
   "cell_type": "code",
   "execution_count": 4,
   "metadata": {},
   "outputs": [
    {
     "name": "stdout",
     "output_type": "stream",
     "text": [
      "1\n",
      "4\n",
      "6\n",
      "7\n"
     ]
    }
   ],
   "source": [
    "# A continue statement will skip to the next iteration of the loop bypassing the rest of the current block but\n",
    "# continuing the loop. As with break, continue can only appear inside loops:\n",
    "for i in (1,2,4,5,6,7):\n",
    "    if i == 2 or i == 5:\n",
    "        continue\n",
    "    print(i)"
   ]
  },
  {
   "cell_type": "code",
   "execution_count": 15,
   "metadata": {},
   "outputs": [
    {
     "name": "stdout",
     "output_type": "stream",
     "text": [
      "0\n",
      "1\n",
      "2\n",
      "3\n",
      "4\n"
     ]
    }
   ],
   "source": [
    "for i in [0, 1, 2, 3, 4]:\n",
    "     print(i)\n",
    "\n",
    "    "
   ]
  },
  {
   "cell_type": "code",
   "execution_count": 17,
   "metadata": {},
   "outputs": [
    {
     "name": "stdout",
     "output_type": "stream",
     "text": [
      "0\n",
      "1\n",
      "2\n",
      "3\n",
      "4\n",
      "5\n"
     ]
    }
   ],
   "source": [
    "for x in range(6):\n",
    "     print(x)"
   ]
  },
  {
   "cell_type": "code",
   "execution_count": 23,
   "metadata": {},
   "outputs": [
    {
     "name": "stdout",
     "output_type": "stream",
     "text": [
      "0 :: one\n",
      "1 :: two\n",
      "2 :: three\n",
      "3 :: four\n"
     ]
    }
   ],
   "source": [
    "# enumerate will generate tuples, which are unpacked into index (an integer) and item (the actual value from the list).\n",
    "# The above loop will print\n",
    "\n",
    "for index, item in enumerate(['one', 'two', 'three', 'four']):\n",
    "     a = print(index, '::', item)"
   ]
  },
  {
   "cell_type": "code",
   "execution_count": 34,
   "metadata": {},
   "outputs": [
    {
     "name": "stdout",
     "output_type": "stream",
     "text": [
      "no exception\n",
      "no exception\n",
      "m\n"
     ]
    }
   ],
   "source": [
    "a = [1, 2,'m', 3, 4,'x']\n",
    "for i in a:\n",
    "    if type(i) is not int:\n",
    "        print(i)\n",
    "        break\n",
    "    else:\n",
    "        print(\"no exception\")\n"
   ]
  },
  {
   "cell_type": "code",
   "execution_count": 46,
   "metadata": {},
   "outputs": [
    {
     "name": "stdout",
     "output_type": "stream",
     "text": [
      "Keys a\n",
      "Keys b\n",
      "Keys c\n",
      "value 1\n",
      "value 2\n",
      "value 3\n",
      "a :: 1\n",
      "b :: 2\n",
      "c :: 3\n"
     ]
    }
   ],
   "source": [
    "d = {\"a\": 1, \"b\": 2, \"c\": 3}\n",
    "for i in d:\n",
    "    print(\"Keys\",i)\n",
    "for i in d.values():\n",
    "    print(\"value\", i)\n",
    "for key,value in d.items():\n",
    "    print(key,\"::\", value)"
   ]
  },
  {
   "cell_type": "code",
   "execution_count": 69,
   "metadata": {},
   "outputs": [
    {
     "name": "stdout",
     "output_type": "stream",
     "text": [
      "('a', 'b', 'c')\n",
      "('x', 'y', 'z')\n",
      "('1', '2', '3')\n",
      "it i ['a', 'b', 'c']\n",
      "it i ['x', 'y', 'z']\n",
      "it i ['1', '2', '3']\n",
      "its y 1\n",
      "its y 2\n",
      "its y 3\n"
     ]
    }
   ],
   "source": [
    "collection = [('a', 'b', 'c'), ('x', 'y', 'z'), ('1', '2', '3')]\n",
    "\n",
    "for i in collection:\n",
    "    print(i)\n",
    "for i in collection:\n",
    "    i = list(i)\n",
    "    print('it i',i)"
   ]
  },
  {
   "cell_type": "code",
   "execution_count": 78,
   "metadata": {},
   "outputs": [
    {
     "name": "stdout",
     "output_type": "stream",
     "text": [
      "alpha has an index of 0\n",
      "bravo has an index of 1\n",
      "charlie has an index of 2\n",
      "delta has an index of 3\n",
      "echo has an index of 4\n",
      "lst at 2 contains charlie\n",
      "lst at 3 contains delta\n"
     ]
    }
   ],
   "source": [
    "lst = ['alpha', 'bravo', 'charlie', 'delta', 'echo']\n",
    "# you need both the element and the index of that element. \n",
    "# The enumerate keyword performs that task.\n",
    "for idx, s in enumerate(lst):\n",
    "    print(\"%s has an index of %d\" % (s, idx))\n",
    "# for s in lst:\n",
    "#      print(upper())\n",
    "for i in range(2,4):\n",
    "    print(\"lst at %d contains %s\" % (i, lst[i]))"
   ]
  },
  {
   "cell_type": "code",
   "execution_count": 82,
   "metadata": {},
   "outputs": [
    {
     "name": "stdout",
     "output_type": "stream",
     "text": [
      "bravo\n",
      "echo\n"
     ]
    }
   ],
   "source": [
    "for s in lst[1::3]:\n",
    "     print(s)\n"
   ]
  },
  {
   "cell_type": "code",
   "execution_count": null,
   "metadata": {},
   "outputs": [],
   "source": []
  },
  {
   "cell_type": "code",
   "execution_count": null,
   "metadata": {},
   "outputs": [],
   "source": []
  }
 ],
 "metadata": {
  "kernelspec": {
   "display_name": "Python 3",
   "language": "python",
   "name": "python3"
  },
  "language_info": {
   "codemirror_mode": {
    "name": "ipython",
    "version": 3
   },
   "file_extension": ".py",
   "mimetype": "text/x-python",
   "name": "python",
   "nbconvert_exporter": "python",
   "pygments_lexer": "ipython3",
   "version": "3.7.3"
  }
 },
 "nbformat": 4,
 "nbformat_minor": 2
}
